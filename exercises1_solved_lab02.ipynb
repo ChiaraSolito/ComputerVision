{
  "cells": [
    {
      "cell_type": "markdown",
      "metadata": {
        "id": "view-in-github",
        "colab_type": "text"
      },
      "source": [
        "<a href=\"https://colab.research.google.com/github/ChiaraSolito/ComputerVision/blob/main/exercises1_solved_lab02.ipynb\" target=\"_parent\"><img src=\"https://colab.research.google.com/assets/colab-badge.svg\" alt=\"Open In Colab\"/></a>"
      ]
    },
    {
      "cell_type": "markdown",
      "metadata": {
        "id": "WJnPTAfF2fPP"
      },
      "source": [
        "# Lab 02 - 1: Solutions #"
      ]
    },
    {
      "cell_type": "code",
      "execution_count": null,
      "metadata": {
        "id": "aLJ9v2nG2fPT"
      },
      "outputs": [],
      "source": [
        "import torch\n",
        "import torch.optim\n",
        "import torchvision\n",
        "\n",
        "import torch.nn as nn\n",
        "import torchvision.models as models\n",
        "\n",
        "# from tqdm import tqdm\n",
        "from tqdm.notebook import tqdm\n",
        "from torchvision import transforms\n",
        "from torch.utils.data import DataLoader\n",
        "from torchvision.models import ResNet18_Weights\n",
        "\n",
        "\n",
        "# Hyperparameters.\n",
        "LR = 3e-4\n",
        "EPOCH = 5\n",
        "BATCH_SIZE = 50\n",
        "DEVICE = torch.device(\"cuda:1\" if torch.cuda.is_available() else \"cpu\")"
      ]
    },
    {
      "cell_type": "code",
      "execution_count": null,
      "metadata": {
        "id": "2ER7BKRz2fPU"
      },
      "outputs": [],
      "source": [
        "class FMnistResNet18(nn.Module):\n",
        "    def __init__(self, in_channels=1):\n",
        "        super(FMnistResNet18, self).__init__()\n",
        "\n",
        "        # Load the pre-trained ResNet-18 model from torchvision.models.\n",
        "        self.model = models.resnet18(weights=ResNet18_Weights.IMAGENET1K_V1)\n",
        "\n",
        "        # Change the input layer to take grayscale images, instead of RGB images.\n",
        "        # Original definition of the first layer on the ResNet-18 class:\n",
        "        # Conv2d(3, 64, kernel_size=(7, 7), stride=(2, 2), padding=(3, 3), bias=False).\n",
        "        self.model.conv1 = nn.Conv2d(in_channels, 64, kernel_size=7, stride=2, padding=3, bias=False)\n",
        "\n",
        "        # Change the output layer to output 10 classes instead of 1000 classes.\n",
        "        num_ftrs = self.model.fc.in_features\n",
        "        self.model.fc = nn.Linear(num_ftrs, 10)\n",
        "\n",
        "    def forward(self, x):\n",
        "        return self.model(x)\n",
        "\n",
        "# Test the network, and verify the layers.\n",
        "test_my_resnet = FMnistResNet18()\n",
        "# [N, C, H, W]: batch N, channels C, depth D, height H, width W.\n",
        "dummy_input = torch.randn((32, 1, 244, 244))\n",
        "output = test_my_resnet(dummy_input)\n",
        "print(output.shape)\n",
        "\n",
        "# print(test_my_resnet)"
      ]
    },
    {
      "cell_type": "code",
      "execution_count": null,
      "metadata": {
        "id": "m-U3Ldjj2fPV"
      },
      "outputs": [],
      "source": [
        "# Dataset.\n",
        "fashion_mnist = torchvision.datasets.FashionMNIST(download=True,\n",
        "                                                  train=True,\n",
        "                                                  root=\".\").train_data.float()\n",
        "\n",
        "# Transformations.\n",
        "data_transform = transforms.Compose([transforms.Resize((224, 224)),\n",
        "                                     transforms.ToTensor(),\n",
        "                                     transforms.Normalize((fashion_mnist.mean()/255,), (fashion_mnist.std()/255,))])\n",
        "\n",
        "# DataLoaders.\n",
        "train_loader = DataLoader(torchvision.datasets.FashionMNIST(download=True, root=\".\", transform=data_transform, train=True),\n",
        "                          batch_size=BATCH_SIZE, shuffle=True)\n",
        "print(f\"Fashion-MNIST - train: {len(train_loader) * BATCH_SIZE}\")\n",
        "\n",
        "test_loader = DataLoader(torchvision.datasets.FashionMNIST(download=True, root=\".\", transform=data_transform, train=False),\n",
        "                         batch_size=BATCH_SIZE, shuffle=False)\n",
        "print(f\"Fashion-MNIST - test: {len(test_loader) * BATCH_SIZE}\")\n",
        "\n",
        "# Define the model.\n",
        "model = FMnistResNet18().to(DEVICE)\n",
        "\n",
        "# Define the loss function.\n",
        "# CrossEntropyLoss works well for multi-class problems.\n",
        "criterion = nn.CrossEntropyLoss()\n",
        "\n",
        "# Define the optimizer.\n",
        "optimizer = torch.optim.Adam(model.parameters(), lr=LR)"
      ]
    },
    {
      "cell_type": "code",
      "execution_count": null,
      "metadata": {
        "id": "vd_Z3wvK2fPW"
      },
      "outputs": [],
      "source": [
        "losses = []\n",
        "\n",
        "# Training step.\n",
        "print(f\"Start training on {DEVICE} [...]\")\n",
        "model.train()\n",
        "\n",
        "for e in range(EPOCH):\n",
        "    e_loss = 0.0\n",
        "\n",
        "    for i, data in (tepoch := tqdm(enumerate(train_loader), unit=\"batch\", total=len(train_loader))):\n",
        "        tepoch.set_description(f\"Epoch {e}\")\n",
        "        x, y = data[0].to(DEVICE), data[1].to(DEVICE)\n",
        "\n",
        "        # Training step for the single batch.\n",
        "        model.zero_grad()\n",
        "        outputs = model(x)\n",
        "        loss = criterion(outputs, y)\n",
        "        loss.backward()\n",
        "        optimizer.step()\n",
        "\n",
        "        # Print statistics.\n",
        "        e_loss += loss.item() * x.shape[0]\n",
        "        tepoch.set_postfix(loss=loss.item())\n",
        "\n",
        "    print(f\"Epoch: {e} - loss: {e_loss/len(fashion_mnist)}\")"
      ]
    },
    {
      "cell_type": "code",
      "execution_count": null,
      "metadata": {
        "id": "Hho52Igr2fPX"
      },
      "outputs": [],
      "source": [
        "# Evaluation step.\n",
        "t_loss = 0\n",
        "correct = 0\n",
        "\n",
        "model.eval()\n",
        "with torch.no_grad():\n",
        "    for i, data in (tepoch := tqdm(enumerate(test_loader), unit=\"batch\", total=len(test_loader))):\n",
        "        tepoch.set_description(\"Validation\")\n",
        "        x, y = data[0].to(DEVICE), data[1].to(DEVICE)\n",
        "\n",
        "        # This get's the prediction from the network.\n",
        "        output = model(x)\n",
        "        # Sum up batch loss.\n",
        "        t_loss += criterion(output, y).item()\n",
        "\n",
        "        # Get the index of the max log-probability.\n",
        "        pred = output.argmax(dim=1, keepdim=True)\n",
        "        correct += pred.eq(y.view_as(pred)).sum().item()\n",
        "\n",
        "t_loss /= len(test_loader.dataset)\n",
        "\n",
        "print('AVG loss: {:.4f}, ACC: {}/{} ({:.0f}%)'.format(\n",
        "      t_loss, correct, len(test_loader.dataset),\n",
        "      100. * correct / len(test_loader.dataset)))"
      ]
    },
    {
      "cell_type": "code",
      "execution_count": null,
      "metadata": {
        "id": "YWtT-XXB2fPX"
      },
      "outputs": [],
      "source": [
        "# Save the model.\n",
        "torch.save(model.state_dict(), \"FMnistResNet18\")\n",
        "\n",
        "# Load the model for future works.\n",
        "model = FMnistResNet18()\n",
        "model_state_dict = torch.load(\"FMnistResNet18\")\n",
        "model.load_state_dict(model_state_dict)"
      ]
    }
  ],
  "metadata": {
    "kernelspec": {
      "display_name": "cv_and_dl",
      "language": "python",
      "name": "python3"
    },
    "language_info": {
      "codemirror_mode": {
        "name": "ipython",
        "version": 3
      },
      "file_extension": ".py",
      "mimetype": "text/x-python",
      "name": "python",
      "nbconvert_exporter": "python",
      "pygments_lexer": "ipython3",
      "version": "3.8.16"
    },
    "orig_nbformat": 4,
    "colab": {
      "provenance": [],
      "include_colab_link": true
    }
  },
  "nbformat": 4,
  "nbformat_minor": 0
}